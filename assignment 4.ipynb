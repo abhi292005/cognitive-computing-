{
 "cells": [
  {
   "cell_type": "markdown",
   "metadata": {},
   "source": [
    "Q.1 Write a program to create a NumPy 1D-array with 5 elements and perform basic \n",
    "operations like:\n",
    "a) Addition of 2 in all the element  \n",
    "b) Multiply 3 with all the elements \n",
    "c) Divide every element by 2 "
   ]
  },
  {
   "cell_type": "code",
   "execution_count": 1,
   "metadata": {},
   "outputs": [
    {
     "name": "stdout",
     "output_type": "stream",
     "text": [
      "Array + 2 :  [13 24 35 46 57]\n",
      "Array * 3 :  [ 33  66  99 132 165]\n",
      "Array / 2 :  [ 5.5 11.  16.5 22.  27.5]\n"
     ]
    }
   ],
   "source": [
    "import numpy as np\n",
    "a=np.array([11,22,33,44,55])\n",
    "\n",
    "print('Array + 2 : ',a+2)\n",
    "print('Array * 3 : ',a*3)\n",
    "print('Array / 2 : ',a/2)"
   ]
  },
  {
   "cell_type": "markdown",
   "metadata": {},
   "source": [
    "Q.2 Questions on Basic NumPy Array: \n",
    "a) Reverse the NumPy array: arr = np.array([1, 2, 3, 6, 4, 5]) \n",
    "b) Find the most frequent value and their indice(s) in the following arrays: \n",
    "i. x = np.array([1,2,3,4,5,1,2,1,1,1]) \n",
    "ii. y = np.array([1, 1, 1, 2, 3, 4, 2, 4, 3, 3, ])"
   ]
  },
  {
   "cell_type": "code",
   "execution_count": 2,
   "metadata": {},
   "outputs": [
    {
     "name": "stdout",
     "output_type": "stream",
     "text": [
      "Reversed: [5 4 6 3 2 1]\n",
      "In X:\n",
      "Most Frequent:  1\n",
      "Indices:  [0 5 7 8 9]\n",
      "\n",
      "In Y:\n",
      "Most Frequent:  1\n",
      "Indices:  [0 1 2]\n"
     ]
    }
   ],
   "source": [
    "import numpy as np\n",
    "arr=np.array([1,2,3,6,4,5])\n",
    "\n",
    "rev=arr[::-1]     \n",
    "# we can use flip function too i.e. rev=np.flip(arr) \n",
    "print('Reversed:',rev)\n",
    "\n",
    "\n",
    "x=np.array([1,2,3,4,5,1,2,1,1,1])\n",
    "y=np.array([1,1,1,2,3,4,2,4,3,3])\n",
    "\n",
    "max_x=np.bincount(x).argmax()\n",
    "max_y=np.bincount(y).argmax()\n",
    "\n",
    "indices_x=np.where(x==max_x)[0]\n",
    "indices_y=np.where(y==max_y)[0]\n",
    "print('In X:')\n",
    "print('Most Frequent: ',max_x)\n",
    "print('Indices: ',indices_x)\n",
    "print()\n",
    "print('In Y:')\n",
    "print('Most Frequent: ',max_y)\n",
    "print('Indices: ',indices_y)"
   ]
  },
  {
   "cell_type": "markdown",
   "metadata": {},
   "source": [
    "Q.3 For the given 2-D array arr=np.array([10, 20, 30], [40, 50, 60], [70, 80, 90]), access \n",
    "elements using row and column indices as follows: \n",
    "a) Access 1st row, 2nd column  \n",
    "b) Access 3rd row, 1st column"
   ]
  },
  {
   "cell_type": "code",
   "execution_count": 5,
   "metadata": {},
   "outputs": [
    {
     "name": "stdout",
     "output_type": "stream",
     "text": [
      "20\n",
      "70\n"
     ]
    }
   ],
   "source": [
    "import numpy as np\n",
    "arr=np.array([[10,20,30],\n",
    "              [40,50,60],\n",
    "              [70,80,90]])\n",
    "\n",
    "print(arr[0][1])\n",
    "print(arr[2][0])"
   ]
  },
  {
   "cell_type": "markdown",
   "metadata": {},
   "source": [
    "Q.4 Write program to create an 1-D NumPy array named <<Your Name>> with evenly \n",
    "spaced 25 numbers from 10 to 100 using linspace(). Print the dimensions of the array, \n",
    "shape, total elements, the data type of each element and total number of bytes consumed \n",
    "by the array. Find the transpose of this array using reshape() attribute. Can we do the same \n",
    "with T attribute? "
   ]
  },
  {
   "cell_type": "code",
   "execution_count": 4,
   "metadata": {},
   "outputs": [
    {
     "name": "stdout",
     "output_type": "stream",
     "text": [
      "Array: [ 10.    13.75  17.5   21.25  25.    28.75  32.5   36.25  40.    43.75\n",
      "  47.5   51.25  55.    58.75  62.5   66.25  70.    73.75  77.5   81.25\n",
      "  85.    88.75  92.5   96.25 100.  ]\n",
      "Dimension:  1\n",
      "Shape : (25,)\n",
      "Number of elements: 25\n",
      "Data Type: float64\n",
      "Total bytes:  200\n",
      "Using reshape:\n",
      "[[ 10.  ]\n",
      " [ 13.75]\n",
      " [ 17.5 ]\n",
      " [ 21.25]\n",
      " [ 25.  ]\n",
      " [ 28.75]\n",
      " [ 32.5 ]\n",
      " [ 36.25]\n",
      " [ 40.  ]\n",
      " [ 43.75]\n",
      " [ 47.5 ]\n",
      " [ 51.25]\n",
      " [ 55.  ]\n",
      " [ 58.75]\n",
      " [ 62.5 ]\n",
      " [ 66.25]\n",
      " [ 70.  ]\n",
      " [ 73.75]\n",
      " [ 77.5 ]\n",
      " [ 81.25]\n",
      " [ 85.  ]\n",
      " [ 88.75]\n",
      " [ 92.5 ]\n",
      " [ 96.25]\n",
      " [100.  ]]\n",
      "Using T:\n",
      "[ 10.    13.75  17.5   21.25  25.    28.75  32.5   36.25  40.    43.75\n",
      "  47.5   51.25  55.    58.75  62.5   66.25  70.    73.75  77.5   81.25\n",
      "  85.    88.75  92.5   96.25 100.  ]\n",
      "T cannot be performed on 1D array\n"
     ]
    }
   ],
   "source": [
    "import numpy as np\n",
    "jitesh_maurya=np.linspace(10,100,25)\n",
    "\n",
    "print('Array:',jitesh_maurya)\n",
    "\n",
    "\n",
    "print('Dimension: ',jitesh_maurya.ndim)\n",
    "print('Shape :',jitesh_maurya.shape)\n",
    "print('Number of elements:',jitesh_maurya.size)\n",
    "print('Data Type:',jitesh_maurya.dtype)\n",
    "print('Total bytes: ',jitesh_maurya.nbytes)\n",
    "\n",
    "jitesh_maurya_transpose=jitesh_maurya.reshape(25,1)\n",
    "print('Using reshape:')\n",
    "print(jitesh_maurya_transpose)\n",
    "\n",
    "print('Using T:')\n",
    "t=jitesh_maurya.T\n",
    "print(t)\n",
    "\n",
    "print('T cannot be performed on 1D array')"
   ]
  },
  {
   "cell_type": "markdown",
   "metadata": {},
   "source": [
    "Q5. Create a 2-D Array of three rows and four columns, named ucs420_<your_name>> \n",
    "with following values – 10, 20, 30, 40, 50, 60, 70, 80, 90, 15, 20, 35. Compute the mean, \n",
    "median, max, min, unique elements. Reshape the array to four rows and three columns and \n",
    "name it as reshaped_ ucs420_<your_name>>. Resize the array to two rows and three \n",
    "columns and name it as resized_ ucs420_<your_name>>."
   ]
  },
  {
   "cell_type": "code",
   "execution_count": 3,
   "metadata": {},
   "outputs": [
    {
     "name": "stdout",
     "output_type": "stream",
     "text": [
      "[[10 20 30 40]\n",
      " [50 60 70 80]\n",
      " [90 15 20 35]]\n",
      "Mean :  43.333333333333336\n",
      "Median :  37.5\n",
      "Max :  90\n",
      "Min :  10\n",
      "Unique elements:  [10 15 20 30 35 40 50 60 70 80 90]\n",
      "\n",
      "Reshaped:\n",
      "[[10 20 30]\n",
      " [40 50 60]\n",
      " [70 80 90]\n",
      " [15 20 35]]\n",
      "\n",
      "Resized:\n",
      "[[10 20 30]\n",
      " [40 50 60]]\n"
     ]
    }
   ],
   "source": [
    "import numpy as np\n",
    "ucs420_jiteshmaurya=np.array([[10,20,30,40],[50,60,70,80],[90,15,20,35]])\n",
    "print(ucs420_jiteshmaurya)\n",
    "print('Mean : ',np.mean(ucs420_jiteshmaurya))\n",
    "print('Median : ',np.median(ucs420_jiteshmaurya))\n",
    "print('Max : ',np.max(ucs420_jiteshmaurya))\n",
    "print('Min : ',np.min(ucs420_jiteshmaurya))\n",
    "print('Unique elements: ',np.unique(ucs420_jiteshmaurya))\n",
    "print()\n",
    "\n",
    "#Reshape\n",
    "reshaped_ucs420_jiteshmaurya=ucs420_jiteshmaurya.reshape(4,3)\n",
    "resized_ucs420_jiteshmaurya=np.resize(ucs420_jiteshmaurya,(2,3))\n",
    "print('Reshaped:')\n",
    "print(reshaped_ucs420_jiteshmaurya)\n",
    "print()\n",
    "\n",
    "print('Resized:')\n",
    "print(resized_ucs420_jiteshmaurya)"
   ]
  }
 ],
 "metadata": {
  "kernelspec": {
   "display_name": "my_venv",
   "language": "python",
   "name": "python3"
  },
  "language_info": {
   "codemirror_mode": {
    "name": "ipython",
    "version": 3
   },
   "file_extension": ".py",
   "mimetype": "text/x-python",
   "name": "python",
   "nbconvert_exporter": "python",
   "pygments_lexer": "ipython3",
   "version": "3.13.1"
  }
 },
 "nbformat": 4,
 "nbformat_minor": 2
}
